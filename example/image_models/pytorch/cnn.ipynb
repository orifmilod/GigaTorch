{
 "cells": [
  {
   "cell_type": "code",
   "execution_count": 2,
   "metadata": {},
   "outputs": [],
   "source": [
    "import torch\n",
    "import torch.nn as nn\n",
    "import torch.nn.functional as F\n",
    "import torchvision\n",
    "from torchvision.transforms import v2\n",
    "import numpy as np"
   ]
  },
  {
   "cell_type": "code",
   "execution_count": 3,
   "metadata": {},
   "outputs": [
    {
     "name": "stderr",
     "output_type": "stream",
     "text": [
      "/Users/orifmilod/Desktop/projects/gigatorch/env/lib/python3.10/site-packages/torchvision/transforms/v2/_deprecated.py:41: UserWarning: The transform `ToTensor()` is deprecated and will be removed in a future release. Instead, please use `v2.Compose([v2.ToImage(), v2.ToDtype(torch.float32, scale=True)])`.\n",
      "  warnings.warn(\n"
     ]
    },
    {
     "name": "stdout",
     "output_type": "stream",
     "text": [
      "Downloading https://www.cs.toronto.edu/~kriz/cifar-10-python.tar.gz to ./data/cifar-10-python.tar.gz\n"
     ]
    },
    {
     "name": "stderr",
     "output_type": "stream",
     "text": [
      "100.0%\n"
     ]
    },
    {
     "name": "stdout",
     "output_type": "stream",
     "text": [
      "Extracting ./data/cifar-10-python.tar.gz to ./data\n",
      "Files already downloaded and verified\n"
     ]
    }
   ],
   "source": [
    "# Device configuration\n",
    "device = torch.device('cuda' if torch.cuda.is_available() else 'cpu')\n",
    "\n",
    "num_epochs = 16\n",
    "batch_size = 8\n",
    "learning_rate = 0.001\n",
    "\n",
    "transform = v2.Compose(\n",
    "    [v2.ToTensor(),\n",
    "     v2.Normalize((0.5, 0.5, 0.5), (0.5, 0.5, 0.5))])\n",
    "\n",
    "train_dataset = torchvision.datasets.CIFAR10(root='./data', train=True, download=True, transform=transform)\n",
    "test_dataset = torchvision.datasets.CIFAR10(root='./data', train=False, download=True, transform=transform)\n",
    "\n",
    "tarin_loder = torch.utils.data.DataLoader(dataset=train_dataset, batch_size=batch_size, shuffle=True)\n",
    "test_loader = torch.utils.data.DataLoader(dataset=test_dataset, batch_size=batch_size, shuffle=False)\n"
   ]
  },
  {
   "cell_type": "code",
   "execution_count": 4,
   "metadata": {},
   "outputs": [
    {
     "name": "stdout",
     "output_type": "stream",
     "text": [
      "Epoche [1/16], Step [2000/6250], Loss: 2.3213\n",
      "Epoche [1/16], Step [4000/6250], Loss: 2.2904\n",
      "Epoche [1/16], Step [6000/6250], Loss: 2.2973\n",
      "Epoche [2/16], Step [2000/6250], Loss: 2.2808\n",
      "Epoche [2/16], Step [4000/6250], Loss: 2.1523\n",
      "Epoche [2/16], Step [6000/6250], Loss: 2.2306\n",
      "Epoche [3/16], Step [2000/6250], Loss: 2.3663\n",
      "Epoche [3/16], Step [4000/6250], Loss: 2.1092\n",
      "Epoche [3/16], Step [6000/6250], Loss: 1.2913\n",
      "Epoche [4/16], Step [2000/6250], Loss: 1.6886\n",
      "Epoche [4/16], Step [4000/6250], Loss: 2.6763\n",
      "Epoche [4/16], Step [6000/6250], Loss: 1.7113\n",
      "Epoche [5/16], Step [2000/6250], Loss: 1.2147\n",
      "Epoche [5/16], Step [4000/6250], Loss: 1.8217\n",
      "Epoche [5/16], Step [6000/6250], Loss: 1.5523\n",
      "Epoche [6/16], Step [2000/6250], Loss: 1.2940\n",
      "Epoche [6/16], Step [4000/6250], Loss: 1.6208\n",
      "Epoche [6/16], Step [6000/6250], Loss: 1.4940\n",
      "Epoche [7/16], Step [2000/6250], Loss: 1.7596\n",
      "Epoche [7/16], Step [4000/6250], Loss: 1.1859\n",
      "Epoche [7/16], Step [6000/6250], Loss: 1.7896\n",
      "Epoche [8/16], Step [2000/6250], Loss: 1.6281\n",
      "Epoche [8/16], Step [4000/6250], Loss: 1.8791\n",
      "Epoche [8/16], Step [6000/6250], Loss: 1.3839\n",
      "Epoche [9/16], Step [2000/6250], Loss: 1.7757\n",
      "Epoche [9/16], Step [4000/6250], Loss: 1.4942\n",
      "Epoche [9/16], Step [6000/6250], Loss: 1.2496\n",
      "Epoche [10/16], Step [2000/6250], Loss: 1.0990\n",
      "Epoche [10/16], Step [4000/6250], Loss: 0.9228\n",
      "Epoche [10/16], Step [6000/6250], Loss: 1.6966\n",
      "Epoche [11/16], Step [2000/6250], Loss: 1.4388\n",
      "Epoche [11/16], Step [4000/6250], Loss: 1.3887\n",
      "Epoche [11/16], Step [6000/6250], Loss: 1.8761\n",
      "Epoche [12/16], Step [2000/6250], Loss: 1.4832\n",
      "Epoche [12/16], Step [4000/6250], Loss: 1.6177\n",
      "Epoche [12/16], Step [6000/6250], Loss: 1.6273\n",
      "Epoche [13/16], Step [2000/6250], Loss: 1.7118\n",
      "Epoche [13/16], Step [4000/6250], Loss: 1.1288\n",
      "Epoche [13/16], Step [6000/6250], Loss: 0.6880\n",
      "Epoche [14/16], Step [2000/6250], Loss: 1.3681\n",
      "Epoche [14/16], Step [4000/6250], Loss: 1.9006\n",
      "Epoche [14/16], Step [6000/6250], Loss: 1.3762\n",
      "Epoche [15/16], Step [2000/6250], Loss: 1.1387\n",
      "Epoche [15/16], Step [4000/6250], Loss: 1.4813\n",
      "Epoche [15/16], Step [6000/6250], Loss: 1.3308\n",
      "Epoche [16/16], Step [2000/6250], Loss: 1.0389\n",
      "Epoche [16/16], Step [4000/6250], Loss: 1.1721\n",
      "Epoche [16/16], Step [6000/6250], Loss: 1.0445\n",
      "Finished training\n",
      "Accuracy of the network: 55.18 %\n",
      "Accuracy: 3 56.6 %\n",
      "Accuracy: 5 62.4 %\n",
      "Accuracy: 3 60.8 %\n",
      "Accuracy: 8 27.8 %\n",
      "Accuracy: 3 39.0 %\n",
      "Accuracy: 5 44.2 %\n",
      "Accuracy: 1 60.9 %\n",
      "Accuracy: 7 69.0 %\n"
     ]
    },
    {
     "ename": "IndexError",
     "evalue": "index 8 is out of bounds for dimension 0 with size 8",
     "output_type": "error",
     "traceback": [
      "\u001b[0;31m---------------------------------------------------------------------------\u001b[0m",
      "\u001b[0;31mIndexError\u001b[0m                                Traceback (most recent call last)",
      "Cell \u001b[0;32mIn[4], line 72\u001b[0m\n\u001b[1;32m     70\u001b[0m \u001b[38;5;28;01mfor\u001b[39;00m i \u001b[38;5;129;01min\u001b[39;00m \u001b[38;5;28mrange\u001b[39m(\u001b[38;5;241m10\u001b[39m):\n\u001b[1;32m     71\u001b[0m     acc \u001b[38;5;241m=\u001b[39m \u001b[38;5;241m100.0\u001b[39m \u001b[38;5;241m*\u001b[39m n_class_correct[i] \u001b[38;5;241m/\u001b[39m n_class_samples[i]\n\u001b[0;32m---> 72\u001b[0m     \u001b[38;5;28mprint\u001b[39m(\u001b[38;5;124mf\u001b[39m\u001b[38;5;124m'\u001b[39m\u001b[38;5;124mAccuracy: \u001b[39m\u001b[38;5;132;01m{\u001b[39;00m\u001b[43mlabels\u001b[49m\u001b[43m[\u001b[49m\u001b[43mi\u001b[49m\u001b[43m]\u001b[49m\u001b[38;5;132;01m}\u001b[39;00m\u001b[38;5;124m \u001b[39m\u001b[38;5;132;01m{\u001b[39;00macc\u001b[38;5;132;01m}\u001b[39;00m\u001b[38;5;124m %\u001b[39m\u001b[38;5;124m'\u001b[39m)\n",
      "\u001b[0;31mIndexError\u001b[0m: index 8 is out of bounds for dimension 0 with size 8"
     ]
    }
   ],
   "source": [
    "class ConvNet(nn.Module):\n",
    "    def __init__(self) -> None:\n",
    "        super().__init__()\n",
    "        self.conv1 = nn.Conv2d(3, 6, 5)\n",
    "        self.pool = nn.MaxPool2d(2, 2)\n",
    "        self.conv2 = nn.Conv2d(6, 16, 5)\n",
    "        self.fc1 = nn.Linear(16 * 5 * 5, 120)\n",
    "        self.fc2 = nn.Linear(120, 84)\n",
    "        self.fc3 = nn.Linear(84, 10)\n",
    "\n",
    "    def forward(self, x):\n",
    "        # -> n, 3, 32, 32\n",
    "        x = self.pool(F.relu(self.conv1(x)))  # -> n, 6, 14, 14\n",
    "        x = self.pool(F.relu(self.conv2(x)))  # -> n, 16, 5, 5\n",
    "        x = x.view(-1, 16 * 5 * 5)            # -> n, 400\n",
    "        x = F.relu(self.fc1(x))               # -> n, 120\n",
    "        x = F.relu(self.fc2(x))               # -> n, 84\n",
    "        x = self.fc3(x)                       # -> n, 10\n",
    "        return x\n",
    "\n",
    "model = ConvNet()\n",
    "model.to(device)\n",
    "critertion = nn.CrossEntropyLoss()\n",
    "optimizer = torch.optim.SGD(model.parameters(), lr=learning_rate)\n",
    "\n",
    "n_total_steps = len(tarin_loder)\n",
    "for epoch in range(num_epochs):\n",
    "    for i, (images, labels) in enumerate(tarin_loder):\n",
    "        images = images.to(device)\n",
    "        labels = labels.to(device)\n",
    "\n",
    "        # Forward pass\n",
    "        outputs = model(images)\n",
    "        loss = critertion(outputs, labels)\n",
    "\n",
    "        # Backward and optimize\n",
    "        optimizer.zero_grad()\n",
    "        loss.backward()\n",
    "        optimizer.step()\n",
    "\n",
    "        if (i+1) % 2000 == 0:\n",
    "            print(f'Epoche [{epoch+1}/{num_epochs}], Step [{i+1}/{n_total_steps}], Loss: {loss.item():.4f}')\n",
    "print(\"Finished training\")\n",
    "\n",
    "\n",
    "with torch.no_grad():\n",
    "    n_correct = 0\n",
    "    n_samples = 0\n",
    "    n_class_correct = [0 for i in range(10)]\n",
    "    n_class_samples = [0 for i in range(10)]\n",
    "    for images, labels in test_loader:\n",
    "        images = images.to(device)\n",
    "        labels = labels.to(device)\n",
    "        outputs = model(images)\n",
    "        # max returns (value ,index)\n",
    "        _, predicted = torch.max(outputs, 1)\n",
    "        n_samples += labels.size(0)\n",
    "        n_correct += (predicted == labels).sum().item()\n",
    "        \n",
    "        for i in range(batch_size):\n",
    "            label = labels[i]\n",
    "            pred = predicted[i]\n",
    "            if (label == pred):\n",
    "                n_class_correct[label] += 1\n",
    "            n_class_samples[label] += 1\n",
    "\n",
    "    acc = 100.0 * n_correct / n_samples\n",
    "    print(f'Accuracy of the network: {acc} %')\n"
   ]
  }
 ],
 "metadata": {
  "kernelspec": {
   "display_name": "env",
   "language": "python",
   "name": "python3"
  },
  "language_info": {
   "codemirror_mode": {
    "name": "ipython",
    "version": 3
   },
   "file_extension": ".py",
   "mimetype": "text/x-python",
   "name": "python",
   "nbconvert_exporter": "python",
   "pygments_lexer": "ipython3",
   "version": "3.10.13"
  }
 },
 "nbformat": 4,
 "nbformat_minor": 2
}
